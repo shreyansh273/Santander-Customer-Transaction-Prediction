{
  "nbformat": 4,
  "nbformat_minor": 0,
  "metadata": {
    "kernelspec": {
      "display_name": "Python 3",
      "language": "python",
      "name": "python3"
    },
    "language_info": {
      "codemirror_mode": {
        "name": "ipython",
        "version": 3
      },
      "file_extension": ".py",
      "mimetype": "text/x-python",
      "name": "python",
      "nbconvert_exporter": "python",
      "pygments_lexer": "ipython3",
      "version": "3.8.5"
    },
    "colab": {
      "name": "Kaggle - SCT prediction.ipynb",
      "provenance": [],
      "include_colab_link": true
    }
  },
  "cells": [
    {
      "cell_type": "markdown",
      "metadata": {
        "id": "view-in-github",
        "colab_type": "text"
      },
      "source": [
        "<a href=\"https://colab.research.google.com/github/shreyansh273/Santander-Customer-Transaction-Prediction/blob/master/Kaggle_SCT_prediction.ipynb\" target=\"_parent\"><img src=\"https://colab.research.google.com/assets/colab-badge.svg\" alt=\"Open In Colab\"/></a>"
      ]
    },
    {
      "cell_type": "markdown",
      "metadata": {
        "id": "nN7C2gFW1S7u"
      },
      "source": [
        "**Importing required functions**"
      ]
    },
    {
      "cell_type": "code",
      "metadata": {
        "id": "VRSAIj-Ytxxu"
      },
      "source": [
        "import pandas as pd\n",
        "import numpy as np\n",
        "import matplotlib.pyplot as plt\n",
        "import seaborn as sns\n",
        "%matplotlib inline"
      ],
      "execution_count": 12,
      "outputs": []
    },
    {
      "cell_type": "code",
      "metadata": {
        "id": "YoK_sNuTtxx7"
      },
      "source": [
        "from sklearn.linear_model import LogisticRegression\n",
        "from sklearn.ensemble import RandomForestClassifier\n",
        "from sklearn.ensemble import GradientBoostingClassifier\n",
        "import xgboost as xgb\n",
        "from sklearn.model_selection import train_test_split\n",
        "from sklearn.metrics import confusion_matrix\n",
        "from sklearn.metrics import recall_score\n",
        "from sklearn.metrics import precision_score\n",
        "from sklearn.metrics import accuracy_score\n",
        "from sklearn import preprocessing"
      ],
      "execution_count": 29,
      "outputs": []
    },
    {
      "cell_type": "markdown",
      "metadata": {
        "id": "TRcIx2Sg1aQR"
      },
      "source": [
        "**Defining function for accuracy calculation**"
      ]
    },
    {
      "cell_type": "code",
      "metadata": {
        "id": "qP-V6UHYtxx8"
      },
      "source": [
        "def acc_metrics(model, X_train, X_test, y_train, y_test):\n",
        "    print(\"train accuracy score = \", \"%.2f\" % accuracy_score(y_train,model.predict(X_train)))\n",
        "    print(\"test accuracy score = \", \"%.2f\" % accuracy_score(y_test,model.predict(X_test)))\n",
        "    print(\"test precision score = \", \"%.2f\" % precision_score(y_test,model.predict(X_test)))\n",
        "    print(\"test recall score = \", \"%.2f\" % recall_score(y_test,model.predict(X_test)))"
      ],
      "execution_count": 39,
      "outputs": []
    },
    {
      "cell_type": "markdown",
      "metadata": {
        "id": "4vIViaqeyqPz"
      },
      "source": [
        "**Mounting to Google Drive**"
      ]
    },
    {
      "cell_type": "code",
      "metadata": {
        "colab": {
          "base_uri": "https://localhost:8080/"
        },
        "id": "Bn626MBRw9Tk",
        "outputId": "c99a297a-d12a-4d89-a69b-def924d9d816"
      },
      "source": [
        "import glob\r\n",
        "from google.colab import drive\r\n",
        "# Mounting drive\r\n",
        "drive.mount('/content/drive')"
      ],
      "execution_count": 10,
      "outputs": [
        {
          "output_type": "stream",
          "text": [
            "Mounted at /content/drive\n"
          ],
          "name": "stdout"
        }
      ]
    },
    {
      "cell_type": "markdown",
      "metadata": {
        "id": "EpGtAafgykDT"
      },
      "source": [
        "**Loading train and test data**"
      ]
    },
    {
      "cell_type": "code",
      "metadata": {
        "colab": {
          "base_uri": "https://localhost:8080/",
          "height": 251
        },
        "id": "QtzsWspPtxx9",
        "outputId": "90202cb7-5838-499f-8396-e4e4a84f2ae6"
      },
      "source": [
        "train = pd.read_csv(\"/content/drive/My Drive/DataScience/Santander_Customer_Transaction_Prediction/train.csv\")\n",
        "train.drop(\"ID_code\",axis=1,inplace=True)\n",
        "train.head()"
      ],
      "execution_count": 19,
      "outputs": [
        {
          "output_type": "execute_result",
          "data": {
            "text/html": [
              "<div>\n",
              "<style scoped>\n",
              "    .dataframe tbody tr th:only-of-type {\n",
              "        vertical-align: middle;\n",
              "    }\n",
              "\n",
              "    .dataframe tbody tr th {\n",
              "        vertical-align: top;\n",
              "    }\n",
              "\n",
              "    .dataframe thead th {\n",
              "        text-align: right;\n",
              "    }\n",
              "</style>\n",
              "<table border=\"1\" class=\"dataframe\">\n",
              "  <thead>\n",
              "    <tr style=\"text-align: right;\">\n",
              "      <th></th>\n",
              "      <th>target</th>\n",
              "      <th>var_0</th>\n",
              "      <th>var_1</th>\n",
              "      <th>var_2</th>\n",
              "      <th>var_3</th>\n",
              "      <th>var_4</th>\n",
              "      <th>var_5</th>\n",
              "      <th>var_6</th>\n",
              "      <th>var_7</th>\n",
              "      <th>var_8</th>\n",
              "      <th>var_9</th>\n",
              "      <th>var_10</th>\n",
              "      <th>var_11</th>\n",
              "      <th>var_12</th>\n",
              "      <th>var_13</th>\n",
              "      <th>var_14</th>\n",
              "      <th>var_15</th>\n",
              "      <th>var_16</th>\n",
              "      <th>var_17</th>\n",
              "      <th>var_18</th>\n",
              "      <th>var_19</th>\n",
              "      <th>var_20</th>\n",
              "      <th>var_21</th>\n",
              "      <th>var_22</th>\n",
              "      <th>var_23</th>\n",
              "      <th>var_24</th>\n",
              "      <th>var_25</th>\n",
              "      <th>var_26</th>\n",
              "      <th>var_27</th>\n",
              "      <th>var_28</th>\n",
              "      <th>var_29</th>\n",
              "      <th>var_30</th>\n",
              "      <th>var_31</th>\n",
              "      <th>var_32</th>\n",
              "      <th>var_33</th>\n",
              "      <th>var_34</th>\n",
              "      <th>var_35</th>\n",
              "      <th>var_36</th>\n",
              "      <th>var_37</th>\n",
              "      <th>var_38</th>\n",
              "      <th>...</th>\n",
              "      <th>var_160</th>\n",
              "      <th>var_161</th>\n",
              "      <th>var_162</th>\n",
              "      <th>var_163</th>\n",
              "      <th>var_164</th>\n",
              "      <th>var_165</th>\n",
              "      <th>var_166</th>\n",
              "      <th>var_167</th>\n",
              "      <th>var_168</th>\n",
              "      <th>var_169</th>\n",
              "      <th>var_170</th>\n",
              "      <th>var_171</th>\n",
              "      <th>var_172</th>\n",
              "      <th>var_173</th>\n",
              "      <th>var_174</th>\n",
              "      <th>var_175</th>\n",
              "      <th>var_176</th>\n",
              "      <th>var_177</th>\n",
              "      <th>var_178</th>\n",
              "      <th>var_179</th>\n",
              "      <th>var_180</th>\n",
              "      <th>var_181</th>\n",
              "      <th>var_182</th>\n",
              "      <th>var_183</th>\n",
              "      <th>var_184</th>\n",
              "      <th>var_185</th>\n",
              "      <th>var_186</th>\n",
              "      <th>var_187</th>\n",
              "      <th>var_188</th>\n",
              "      <th>var_189</th>\n",
              "      <th>var_190</th>\n",
              "      <th>var_191</th>\n",
              "      <th>var_192</th>\n",
              "      <th>var_193</th>\n",
              "      <th>var_194</th>\n",
              "      <th>var_195</th>\n",
              "      <th>var_196</th>\n",
              "      <th>var_197</th>\n",
              "      <th>var_198</th>\n",
              "      <th>var_199</th>\n",
              "    </tr>\n",
              "  </thead>\n",
              "  <tbody>\n",
              "    <tr>\n",
              "      <th>0</th>\n",
              "      <td>0</td>\n",
              "      <td>8.9255</td>\n",
              "      <td>-6.7863</td>\n",
              "      <td>11.9081</td>\n",
              "      <td>5.0930</td>\n",
              "      <td>11.4607</td>\n",
              "      <td>-9.2834</td>\n",
              "      <td>5.1187</td>\n",
              "      <td>18.6266</td>\n",
              "      <td>-4.9200</td>\n",
              "      <td>5.7470</td>\n",
              "      <td>2.9252</td>\n",
              "      <td>3.1821</td>\n",
              "      <td>14.0137</td>\n",
              "      <td>0.5745</td>\n",
              "      <td>8.7989</td>\n",
              "      <td>14.5691</td>\n",
              "      <td>5.7487</td>\n",
              "      <td>-7.2393</td>\n",
              "      <td>4.2840</td>\n",
              "      <td>30.7133</td>\n",
              "      <td>10.5350</td>\n",
              "      <td>16.2191</td>\n",
              "      <td>2.5791</td>\n",
              "      <td>2.4716</td>\n",
              "      <td>14.3831</td>\n",
              "      <td>13.4325</td>\n",
              "      <td>-5.1488</td>\n",
              "      <td>-0.4073</td>\n",
              "      <td>4.9306</td>\n",
              "      <td>5.9965</td>\n",
              "      <td>-0.3085</td>\n",
              "      <td>12.9041</td>\n",
              "      <td>-3.8766</td>\n",
              "      <td>16.8911</td>\n",
              "      <td>11.1920</td>\n",
              "      <td>10.5785</td>\n",
              "      <td>0.6764</td>\n",
              "      <td>7.8871</td>\n",
              "      <td>4.6667</td>\n",
              "      <td>...</td>\n",
              "      <td>15.4576</td>\n",
              "      <td>5.3133</td>\n",
              "      <td>3.6159</td>\n",
              "      <td>5.0384</td>\n",
              "      <td>6.6760</td>\n",
              "      <td>12.6644</td>\n",
              "      <td>2.7004</td>\n",
              "      <td>-0.6975</td>\n",
              "      <td>9.5981</td>\n",
              "      <td>5.4879</td>\n",
              "      <td>-4.7645</td>\n",
              "      <td>-8.4254</td>\n",
              "      <td>20.8773</td>\n",
              "      <td>3.1531</td>\n",
              "      <td>18.5618</td>\n",
              "      <td>7.7423</td>\n",
              "      <td>-10.1245</td>\n",
              "      <td>13.7241</td>\n",
              "      <td>-3.5189</td>\n",
              "      <td>1.7202</td>\n",
              "      <td>-8.4051</td>\n",
              "      <td>9.0164</td>\n",
              "      <td>3.0657</td>\n",
              "      <td>14.3691</td>\n",
              "      <td>25.8398</td>\n",
              "      <td>5.8764</td>\n",
              "      <td>11.8411</td>\n",
              "      <td>-19.7159</td>\n",
              "      <td>17.5743</td>\n",
              "      <td>0.5857</td>\n",
              "      <td>4.4354</td>\n",
              "      <td>3.9642</td>\n",
              "      <td>3.1364</td>\n",
              "      <td>1.6910</td>\n",
              "      <td>18.5227</td>\n",
              "      <td>-2.3978</td>\n",
              "      <td>7.8784</td>\n",
              "      <td>8.5635</td>\n",
              "      <td>12.7803</td>\n",
              "      <td>-1.0914</td>\n",
              "    </tr>\n",
              "    <tr>\n",
              "      <th>1</th>\n",
              "      <td>0</td>\n",
              "      <td>11.5006</td>\n",
              "      <td>-4.1473</td>\n",
              "      <td>13.8588</td>\n",
              "      <td>5.3890</td>\n",
              "      <td>12.3622</td>\n",
              "      <td>7.0433</td>\n",
              "      <td>5.6208</td>\n",
              "      <td>16.5338</td>\n",
              "      <td>3.1468</td>\n",
              "      <td>8.0851</td>\n",
              "      <td>-0.4032</td>\n",
              "      <td>8.0585</td>\n",
              "      <td>14.0239</td>\n",
              "      <td>8.4135</td>\n",
              "      <td>5.4345</td>\n",
              "      <td>13.7003</td>\n",
              "      <td>13.8275</td>\n",
              "      <td>-15.5849</td>\n",
              "      <td>7.8000</td>\n",
              "      <td>28.5708</td>\n",
              "      <td>3.4287</td>\n",
              "      <td>2.7407</td>\n",
              "      <td>8.5524</td>\n",
              "      <td>3.3716</td>\n",
              "      <td>6.9779</td>\n",
              "      <td>13.8910</td>\n",
              "      <td>-11.7684</td>\n",
              "      <td>-2.5586</td>\n",
              "      <td>5.0464</td>\n",
              "      <td>0.5481</td>\n",
              "      <td>-9.2987</td>\n",
              "      <td>7.8755</td>\n",
              "      <td>1.2859</td>\n",
              "      <td>19.3710</td>\n",
              "      <td>11.3702</td>\n",
              "      <td>0.7399</td>\n",
              "      <td>2.7995</td>\n",
              "      <td>5.8434</td>\n",
              "      <td>10.8160</td>\n",
              "      <td>...</td>\n",
              "      <td>29.4846</td>\n",
              "      <td>5.8683</td>\n",
              "      <td>3.8208</td>\n",
              "      <td>15.8348</td>\n",
              "      <td>-5.0121</td>\n",
              "      <td>15.1345</td>\n",
              "      <td>3.2003</td>\n",
              "      <td>9.3192</td>\n",
              "      <td>3.8821</td>\n",
              "      <td>5.7999</td>\n",
              "      <td>5.5378</td>\n",
              "      <td>5.0988</td>\n",
              "      <td>22.0330</td>\n",
              "      <td>5.5134</td>\n",
              "      <td>30.2645</td>\n",
              "      <td>10.4968</td>\n",
              "      <td>-7.2352</td>\n",
              "      <td>16.5721</td>\n",
              "      <td>-7.3477</td>\n",
              "      <td>11.0752</td>\n",
              "      <td>-5.5937</td>\n",
              "      <td>9.4878</td>\n",
              "      <td>-14.9100</td>\n",
              "      <td>9.4245</td>\n",
              "      <td>22.5441</td>\n",
              "      <td>-4.8622</td>\n",
              "      <td>7.6543</td>\n",
              "      <td>-15.9319</td>\n",
              "      <td>13.3175</td>\n",
              "      <td>-0.3566</td>\n",
              "      <td>7.6421</td>\n",
              "      <td>7.7214</td>\n",
              "      <td>2.5837</td>\n",
              "      <td>10.9516</td>\n",
              "      <td>15.4305</td>\n",
              "      <td>2.0339</td>\n",
              "      <td>8.1267</td>\n",
              "      <td>8.7889</td>\n",
              "      <td>18.3560</td>\n",
              "      <td>1.9518</td>\n",
              "    </tr>\n",
              "    <tr>\n",
              "      <th>2</th>\n",
              "      <td>0</td>\n",
              "      <td>8.6093</td>\n",
              "      <td>-2.7457</td>\n",
              "      <td>12.0805</td>\n",
              "      <td>7.8928</td>\n",
              "      <td>10.5825</td>\n",
              "      <td>-9.0837</td>\n",
              "      <td>6.9427</td>\n",
              "      <td>14.6155</td>\n",
              "      <td>-4.9193</td>\n",
              "      <td>5.9525</td>\n",
              "      <td>-0.3249</td>\n",
              "      <td>-11.2648</td>\n",
              "      <td>14.1929</td>\n",
              "      <td>7.3124</td>\n",
              "      <td>7.5244</td>\n",
              "      <td>14.6472</td>\n",
              "      <td>7.6782</td>\n",
              "      <td>-1.7395</td>\n",
              "      <td>4.7011</td>\n",
              "      <td>20.4775</td>\n",
              "      <td>17.7559</td>\n",
              "      <td>18.1377</td>\n",
              "      <td>1.2145</td>\n",
              "      <td>3.5137</td>\n",
              "      <td>5.6777</td>\n",
              "      <td>13.2177</td>\n",
              "      <td>-7.9940</td>\n",
              "      <td>-2.9029</td>\n",
              "      <td>5.8463</td>\n",
              "      <td>6.1439</td>\n",
              "      <td>-11.1025</td>\n",
              "      <td>12.4858</td>\n",
              "      <td>-2.2871</td>\n",
              "      <td>19.0422</td>\n",
              "      <td>11.0449</td>\n",
              "      <td>4.1087</td>\n",
              "      <td>4.6974</td>\n",
              "      <td>6.9346</td>\n",
              "      <td>10.8917</td>\n",
              "      <td>...</td>\n",
              "      <td>13.2070</td>\n",
              "      <td>5.8442</td>\n",
              "      <td>4.7086</td>\n",
              "      <td>5.7141</td>\n",
              "      <td>-1.0410</td>\n",
              "      <td>20.5092</td>\n",
              "      <td>3.2790</td>\n",
              "      <td>-5.5952</td>\n",
              "      <td>7.3176</td>\n",
              "      <td>5.7690</td>\n",
              "      <td>-7.0927</td>\n",
              "      <td>-3.9116</td>\n",
              "      <td>7.2569</td>\n",
              "      <td>-5.8234</td>\n",
              "      <td>25.6820</td>\n",
              "      <td>10.9202</td>\n",
              "      <td>-0.3104</td>\n",
              "      <td>8.8438</td>\n",
              "      <td>-9.7009</td>\n",
              "      <td>2.4013</td>\n",
              "      <td>-4.2935</td>\n",
              "      <td>9.3908</td>\n",
              "      <td>-13.2648</td>\n",
              "      <td>3.1545</td>\n",
              "      <td>23.0866</td>\n",
              "      <td>-5.3000</td>\n",
              "      <td>5.3745</td>\n",
              "      <td>-6.2660</td>\n",
              "      <td>10.1934</td>\n",
              "      <td>-0.8417</td>\n",
              "      <td>2.9057</td>\n",
              "      <td>9.7905</td>\n",
              "      <td>1.6704</td>\n",
              "      <td>1.6858</td>\n",
              "      <td>21.6042</td>\n",
              "      <td>3.1417</td>\n",
              "      <td>-6.5213</td>\n",
              "      <td>8.2675</td>\n",
              "      <td>14.7222</td>\n",
              "      <td>0.3965</td>\n",
              "    </tr>\n",
              "    <tr>\n",
              "      <th>3</th>\n",
              "      <td>0</td>\n",
              "      <td>11.0604</td>\n",
              "      <td>-2.1518</td>\n",
              "      <td>8.9522</td>\n",
              "      <td>7.1957</td>\n",
              "      <td>12.5846</td>\n",
              "      <td>-1.8361</td>\n",
              "      <td>5.8428</td>\n",
              "      <td>14.9250</td>\n",
              "      <td>-5.8609</td>\n",
              "      <td>8.2450</td>\n",
              "      <td>2.3061</td>\n",
              "      <td>2.8102</td>\n",
              "      <td>13.8463</td>\n",
              "      <td>11.9704</td>\n",
              "      <td>6.4569</td>\n",
              "      <td>14.8372</td>\n",
              "      <td>10.7430</td>\n",
              "      <td>-0.4299</td>\n",
              "      <td>15.9426</td>\n",
              "      <td>13.7257</td>\n",
              "      <td>20.3010</td>\n",
              "      <td>12.5579</td>\n",
              "      <td>6.8202</td>\n",
              "      <td>2.7229</td>\n",
              "      <td>12.1354</td>\n",
              "      <td>13.7367</td>\n",
              "      <td>0.8135</td>\n",
              "      <td>-0.9059</td>\n",
              "      <td>5.9070</td>\n",
              "      <td>2.8407</td>\n",
              "      <td>-15.2398</td>\n",
              "      <td>10.4407</td>\n",
              "      <td>-2.5731</td>\n",
              "      <td>6.1796</td>\n",
              "      <td>10.6093</td>\n",
              "      <td>-5.9158</td>\n",
              "      <td>8.1723</td>\n",
              "      <td>2.8521</td>\n",
              "      <td>9.1738</td>\n",
              "      <td>...</td>\n",
              "      <td>31.8833</td>\n",
              "      <td>5.9684</td>\n",
              "      <td>7.2084</td>\n",
              "      <td>3.8899</td>\n",
              "      <td>-11.0882</td>\n",
              "      <td>17.2502</td>\n",
              "      <td>2.5881</td>\n",
              "      <td>-2.7018</td>\n",
              "      <td>0.5641</td>\n",
              "      <td>5.3430</td>\n",
              "      <td>-7.1541</td>\n",
              "      <td>-6.1920</td>\n",
              "      <td>18.2366</td>\n",
              "      <td>11.7134</td>\n",
              "      <td>14.7483</td>\n",
              "      <td>8.1013</td>\n",
              "      <td>11.8771</td>\n",
              "      <td>13.9552</td>\n",
              "      <td>-10.4701</td>\n",
              "      <td>5.6961</td>\n",
              "      <td>-3.7546</td>\n",
              "      <td>8.4117</td>\n",
              "      <td>1.8986</td>\n",
              "      <td>7.2601</td>\n",
              "      <td>-0.4639</td>\n",
              "      <td>-0.0498</td>\n",
              "      <td>7.9336</td>\n",
              "      <td>-12.8279</td>\n",
              "      <td>12.4124</td>\n",
              "      <td>1.8489</td>\n",
              "      <td>4.4666</td>\n",
              "      <td>4.7433</td>\n",
              "      <td>0.7178</td>\n",
              "      <td>1.4214</td>\n",
              "      <td>23.0347</td>\n",
              "      <td>-1.2706</td>\n",
              "      <td>-2.9275</td>\n",
              "      <td>10.2922</td>\n",
              "      <td>17.9697</td>\n",
              "      <td>-8.9996</td>\n",
              "    </tr>\n",
              "    <tr>\n",
              "      <th>4</th>\n",
              "      <td>0</td>\n",
              "      <td>9.8369</td>\n",
              "      <td>-1.4834</td>\n",
              "      <td>12.8746</td>\n",
              "      <td>6.6375</td>\n",
              "      <td>12.2772</td>\n",
              "      <td>2.4486</td>\n",
              "      <td>5.9405</td>\n",
              "      <td>19.2514</td>\n",
              "      <td>6.2654</td>\n",
              "      <td>7.6784</td>\n",
              "      <td>-9.4458</td>\n",
              "      <td>-12.1419</td>\n",
              "      <td>13.8481</td>\n",
              "      <td>7.8895</td>\n",
              "      <td>7.7894</td>\n",
              "      <td>15.0553</td>\n",
              "      <td>8.4871</td>\n",
              "      <td>-3.0680</td>\n",
              "      <td>6.5263</td>\n",
              "      <td>11.3152</td>\n",
              "      <td>21.4246</td>\n",
              "      <td>18.9608</td>\n",
              "      <td>10.1102</td>\n",
              "      <td>2.7142</td>\n",
              "      <td>14.2080</td>\n",
              "      <td>13.5433</td>\n",
              "      <td>3.1736</td>\n",
              "      <td>-3.3423</td>\n",
              "      <td>5.9015</td>\n",
              "      <td>7.9352</td>\n",
              "      <td>-3.1582</td>\n",
              "      <td>9.4668</td>\n",
              "      <td>-0.0083</td>\n",
              "      <td>19.3239</td>\n",
              "      <td>12.4057</td>\n",
              "      <td>0.6329</td>\n",
              "      <td>2.7922</td>\n",
              "      <td>5.8184</td>\n",
              "      <td>19.3038</td>\n",
              "      <td>...</td>\n",
              "      <td>33.5107</td>\n",
              "      <td>5.6953</td>\n",
              "      <td>5.4663</td>\n",
              "      <td>18.2201</td>\n",
              "      <td>6.5769</td>\n",
              "      <td>21.2607</td>\n",
              "      <td>3.2304</td>\n",
              "      <td>-1.7759</td>\n",
              "      <td>3.1283</td>\n",
              "      <td>5.5518</td>\n",
              "      <td>1.4493</td>\n",
              "      <td>-2.6627</td>\n",
              "      <td>19.8056</td>\n",
              "      <td>2.3705</td>\n",
              "      <td>18.4685</td>\n",
              "      <td>16.3309</td>\n",
              "      <td>-3.3456</td>\n",
              "      <td>13.5261</td>\n",
              "      <td>1.7189</td>\n",
              "      <td>5.1743</td>\n",
              "      <td>-7.6938</td>\n",
              "      <td>9.7685</td>\n",
              "      <td>4.8910</td>\n",
              "      <td>12.2198</td>\n",
              "      <td>11.8503</td>\n",
              "      <td>-7.8931</td>\n",
              "      <td>6.4209</td>\n",
              "      <td>5.9270</td>\n",
              "      <td>16.0201</td>\n",
              "      <td>-0.2829</td>\n",
              "      <td>-1.4905</td>\n",
              "      <td>9.5214</td>\n",
              "      <td>-0.1508</td>\n",
              "      <td>9.1942</td>\n",
              "      <td>13.2876</td>\n",
              "      <td>-1.5121</td>\n",
              "      <td>3.9267</td>\n",
              "      <td>9.5031</td>\n",
              "      <td>17.9974</td>\n",
              "      <td>-8.8104</td>\n",
              "    </tr>\n",
              "  </tbody>\n",
              "</table>\n",
              "<p>5 rows × 201 columns</p>\n",
              "</div>"
            ],
            "text/plain": [
              "   target    var_0   var_1    var_2  ...  var_196  var_197  var_198  var_199\n",
              "0       0   8.9255 -6.7863  11.9081  ...   7.8784   8.5635  12.7803  -1.0914\n",
              "1       0  11.5006 -4.1473  13.8588  ...   8.1267   8.7889  18.3560   1.9518\n",
              "2       0   8.6093 -2.7457  12.0805  ...  -6.5213   8.2675  14.7222   0.3965\n",
              "3       0  11.0604 -2.1518   8.9522  ...  -2.9275  10.2922  17.9697  -8.9996\n",
              "4       0   9.8369 -1.4834  12.8746  ...   3.9267   9.5031  17.9974  -8.8104\n",
              "\n",
              "[5 rows x 201 columns]"
            ]
          },
          "metadata": {
            "tags": []
          },
          "execution_count": 19
        }
      ]
    },
    {
      "cell_type": "markdown",
      "metadata": {
        "id": "YxO9L52kyzIG"
      },
      "source": [
        "**Checking data types of columns**"
      ]
    },
    {
      "cell_type": "code",
      "metadata": {
        "id": "IJBVUA5OtxyA",
        "outputId": "1ec93c84-7d40-489a-b3bf-7c0ce0193663"
      },
      "source": [
        "train.dtypes"
      ],
      "execution_count": null,
      "outputs": [
        {
          "output_type": "execute_result",
          "data": {
            "text/plain": [
              "target       int64\n",
              "var_0      float64\n",
              "var_1      float64\n",
              "var_2      float64\n",
              "var_3      float64\n",
              "            ...   \n",
              "var_195    float64\n",
              "var_196    float64\n",
              "var_197    float64\n",
              "var_198    float64\n",
              "var_199    float64\n",
              "Length: 201, dtype: object"
            ]
          },
          "metadata": {
            "tags": []
          },
          "execution_count": 4
        }
      ]
    },
    {
      "cell_type": "markdown",
      "metadata": {
        "id": "2j12fAQky4s8"
      },
      "source": [
        "**Basic Metrics for the variables**"
      ]
    },
    {
      "cell_type": "code",
      "metadata": {
        "colab": {
          "base_uri": "https://localhost:8080/",
          "height": 343
        },
        "id": "NKBtgaLJtxyB",
        "outputId": "fc407a2c-d74c-4ad0-930a-d0b67ae9f9dc"
      },
      "source": [
        "train.describe()"
      ],
      "execution_count": 20,
      "outputs": [
        {
          "output_type": "execute_result",
          "data": {
            "text/html": [
              "<div>\n",
              "<style scoped>\n",
              "    .dataframe tbody tr th:only-of-type {\n",
              "        vertical-align: middle;\n",
              "    }\n",
              "\n",
              "    .dataframe tbody tr th {\n",
              "        vertical-align: top;\n",
              "    }\n",
              "\n",
              "    .dataframe thead th {\n",
              "        text-align: right;\n",
              "    }\n",
              "</style>\n",
              "<table border=\"1\" class=\"dataframe\">\n",
              "  <thead>\n",
              "    <tr style=\"text-align: right;\">\n",
              "      <th></th>\n",
              "      <th>target</th>\n",
              "      <th>var_0</th>\n",
              "      <th>var_1</th>\n",
              "      <th>var_2</th>\n",
              "      <th>var_3</th>\n",
              "      <th>var_4</th>\n",
              "      <th>var_5</th>\n",
              "      <th>var_6</th>\n",
              "      <th>var_7</th>\n",
              "      <th>var_8</th>\n",
              "      <th>var_9</th>\n",
              "      <th>var_10</th>\n",
              "      <th>var_11</th>\n",
              "      <th>var_12</th>\n",
              "      <th>var_13</th>\n",
              "      <th>var_14</th>\n",
              "      <th>var_15</th>\n",
              "      <th>var_16</th>\n",
              "      <th>var_17</th>\n",
              "      <th>var_18</th>\n",
              "      <th>var_19</th>\n",
              "      <th>var_20</th>\n",
              "      <th>var_21</th>\n",
              "      <th>var_22</th>\n",
              "      <th>var_23</th>\n",
              "      <th>var_24</th>\n",
              "      <th>var_25</th>\n",
              "      <th>var_26</th>\n",
              "      <th>var_27</th>\n",
              "      <th>var_28</th>\n",
              "      <th>var_29</th>\n",
              "      <th>var_30</th>\n",
              "      <th>var_31</th>\n",
              "      <th>var_32</th>\n",
              "      <th>var_33</th>\n",
              "      <th>var_34</th>\n",
              "      <th>var_35</th>\n",
              "      <th>var_36</th>\n",
              "      <th>var_37</th>\n",
              "      <th>var_38</th>\n",
              "      <th>...</th>\n",
              "      <th>var_160</th>\n",
              "      <th>var_161</th>\n",
              "      <th>var_162</th>\n",
              "      <th>var_163</th>\n",
              "      <th>var_164</th>\n",
              "      <th>var_165</th>\n",
              "      <th>var_166</th>\n",
              "      <th>var_167</th>\n",
              "      <th>var_168</th>\n",
              "      <th>var_169</th>\n",
              "      <th>var_170</th>\n",
              "      <th>var_171</th>\n",
              "      <th>var_172</th>\n",
              "      <th>var_173</th>\n",
              "      <th>var_174</th>\n",
              "      <th>var_175</th>\n",
              "      <th>var_176</th>\n",
              "      <th>var_177</th>\n",
              "      <th>var_178</th>\n",
              "      <th>var_179</th>\n",
              "      <th>var_180</th>\n",
              "      <th>var_181</th>\n",
              "      <th>var_182</th>\n",
              "      <th>var_183</th>\n",
              "      <th>var_184</th>\n",
              "      <th>var_185</th>\n",
              "      <th>var_186</th>\n",
              "      <th>var_187</th>\n",
              "      <th>var_188</th>\n",
              "      <th>var_189</th>\n",
              "      <th>var_190</th>\n",
              "      <th>var_191</th>\n",
              "      <th>var_192</th>\n",
              "      <th>var_193</th>\n",
              "      <th>var_194</th>\n",
              "      <th>var_195</th>\n",
              "      <th>var_196</th>\n",
              "      <th>var_197</th>\n",
              "      <th>var_198</th>\n",
              "      <th>var_199</th>\n",
              "    </tr>\n",
              "  </thead>\n",
              "  <tbody>\n",
              "    <tr>\n",
              "      <th>count</th>\n",
              "      <td>200000.000000</td>\n",
              "      <td>200000.000000</td>\n",
              "      <td>200000.000000</td>\n",
              "      <td>200000.000000</td>\n",
              "      <td>200000.000000</td>\n",
              "      <td>200000.000000</td>\n",
              "      <td>200000.000000</td>\n",
              "      <td>200000.000000</td>\n",
              "      <td>200000.000000</td>\n",
              "      <td>200000.000000</td>\n",
              "      <td>200000.000000</td>\n",
              "      <td>200000.000000</td>\n",
              "      <td>200000.000000</td>\n",
              "      <td>200000.000000</td>\n",
              "      <td>200000.000000</td>\n",
              "      <td>200000.000000</td>\n",
              "      <td>200000.000000</td>\n",
              "      <td>200000.000000</td>\n",
              "      <td>200000.000000</td>\n",
              "      <td>200000.000000</td>\n",
              "      <td>200000.000000</td>\n",
              "      <td>200000.000000</td>\n",
              "      <td>200000.000000</td>\n",
              "      <td>200000.000000</td>\n",
              "      <td>200000.000000</td>\n",
              "      <td>200000.000000</td>\n",
              "      <td>200000.000000</td>\n",
              "      <td>200000.000000</td>\n",
              "      <td>200000.000000</td>\n",
              "      <td>200000.000000</td>\n",
              "      <td>200000.000000</td>\n",
              "      <td>200000.000000</td>\n",
              "      <td>200000.000000</td>\n",
              "      <td>200000.000000</td>\n",
              "      <td>200000.000000</td>\n",
              "      <td>200000.000000</td>\n",
              "      <td>200000.000000</td>\n",
              "      <td>200000.000000</td>\n",
              "      <td>200000.000000</td>\n",
              "      <td>200000.000000</td>\n",
              "      <td>...</td>\n",
              "      <td>200000.000000</td>\n",
              "      <td>200000.000000</td>\n",
              "      <td>200000.000000</td>\n",
              "      <td>200000.000000</td>\n",
              "      <td>200000.000000</td>\n",
              "      <td>200000.000000</td>\n",
              "      <td>200000.000000</td>\n",
              "      <td>200000.000000</td>\n",
              "      <td>200000.000000</td>\n",
              "      <td>200000.000000</td>\n",
              "      <td>200000.000000</td>\n",
              "      <td>200000.000000</td>\n",
              "      <td>200000.000000</td>\n",
              "      <td>200000.000000</td>\n",
              "      <td>200000.000000</td>\n",
              "      <td>200000.000000</td>\n",
              "      <td>200000.000000</td>\n",
              "      <td>200000.000000</td>\n",
              "      <td>200000.000000</td>\n",
              "      <td>200000.000000</td>\n",
              "      <td>200000.000000</td>\n",
              "      <td>200000.000000</td>\n",
              "      <td>200000.000000</td>\n",
              "      <td>200000.000000</td>\n",
              "      <td>200000.000000</td>\n",
              "      <td>200000.000000</td>\n",
              "      <td>200000.000000</td>\n",
              "      <td>200000.000000</td>\n",
              "      <td>200000.000000</td>\n",
              "      <td>200000.000000</td>\n",
              "      <td>200000.000000</td>\n",
              "      <td>200000.000000</td>\n",
              "      <td>200000.000000</td>\n",
              "      <td>200000.000000</td>\n",
              "      <td>200000.000000</td>\n",
              "      <td>200000.000000</td>\n",
              "      <td>200000.000000</td>\n",
              "      <td>200000.000000</td>\n",
              "      <td>200000.000000</td>\n",
              "      <td>200000.000000</td>\n",
              "    </tr>\n",
              "    <tr>\n",
              "      <th>mean</th>\n",
              "      <td>0.100490</td>\n",
              "      <td>10.679914</td>\n",
              "      <td>-1.627622</td>\n",
              "      <td>10.715192</td>\n",
              "      <td>6.796529</td>\n",
              "      <td>11.078333</td>\n",
              "      <td>-5.065317</td>\n",
              "      <td>5.408949</td>\n",
              "      <td>16.545850</td>\n",
              "      <td>0.284162</td>\n",
              "      <td>7.567236</td>\n",
              "      <td>0.394340</td>\n",
              "      <td>-3.245596</td>\n",
              "      <td>14.023978</td>\n",
              "      <td>8.530232</td>\n",
              "      <td>7.537606</td>\n",
              "      <td>14.573126</td>\n",
              "      <td>9.333264</td>\n",
              "      <td>-5.696731</td>\n",
              "      <td>15.244013</td>\n",
              "      <td>12.438567</td>\n",
              "      <td>13.290894</td>\n",
              "      <td>17.257883</td>\n",
              "      <td>4.305430</td>\n",
              "      <td>3.019540</td>\n",
              "      <td>10.584400</td>\n",
              "      <td>13.667496</td>\n",
              "      <td>-4.055133</td>\n",
              "      <td>-1.137908</td>\n",
              "      <td>5.532980</td>\n",
              "      <td>5.053874</td>\n",
              "      <td>-7.687740</td>\n",
              "      <td>10.393046</td>\n",
              "      <td>-0.512886</td>\n",
              "      <td>14.774147</td>\n",
              "      <td>11.434250</td>\n",
              "      <td>3.842499</td>\n",
              "      <td>2.187230</td>\n",
              "      <td>5.868899</td>\n",
              "      <td>10.642131</td>\n",
              "      <td>...</td>\n",
              "      <td>24.259300</td>\n",
              "      <td>5.633293</td>\n",
              "      <td>5.362896</td>\n",
              "      <td>11.002170</td>\n",
              "      <td>-2.871906</td>\n",
              "      <td>19.315753</td>\n",
              "      <td>2.963335</td>\n",
              "      <td>-4.151155</td>\n",
              "      <td>4.937124</td>\n",
              "      <td>5.636008</td>\n",
              "      <td>-0.004962</td>\n",
              "      <td>-0.831777</td>\n",
              "      <td>19.817094</td>\n",
              "      <td>-0.677967</td>\n",
              "      <td>20.210677</td>\n",
              "      <td>11.640613</td>\n",
              "      <td>-2.799585</td>\n",
              "      <td>11.882933</td>\n",
              "      <td>-1.014064</td>\n",
              "      <td>2.591444</td>\n",
              "      <td>-2.741666</td>\n",
              "      <td>10.085518</td>\n",
              "      <td>0.719109</td>\n",
              "      <td>8.769088</td>\n",
              "      <td>12.756676</td>\n",
              "      <td>-3.983261</td>\n",
              "      <td>8.970274</td>\n",
              "      <td>-10.335043</td>\n",
              "      <td>15.377174</td>\n",
              "      <td>0.746072</td>\n",
              "      <td>3.234440</td>\n",
              "      <td>7.438408</td>\n",
              "      <td>1.927839</td>\n",
              "      <td>3.331774</td>\n",
              "      <td>17.993784</td>\n",
              "      <td>-0.142088</td>\n",
              "      <td>2.303335</td>\n",
              "      <td>8.908158</td>\n",
              "      <td>15.870720</td>\n",
              "      <td>-3.326537</td>\n",
              "    </tr>\n",
              "    <tr>\n",
              "      <th>std</th>\n",
              "      <td>0.300653</td>\n",
              "      <td>3.040051</td>\n",
              "      <td>4.050044</td>\n",
              "      <td>2.640894</td>\n",
              "      <td>2.043319</td>\n",
              "      <td>1.623150</td>\n",
              "      <td>7.863267</td>\n",
              "      <td>0.866607</td>\n",
              "      <td>3.418076</td>\n",
              "      <td>3.332634</td>\n",
              "      <td>1.235070</td>\n",
              "      <td>5.500793</td>\n",
              "      <td>5.970253</td>\n",
              "      <td>0.190059</td>\n",
              "      <td>4.639536</td>\n",
              "      <td>2.247908</td>\n",
              "      <td>0.411711</td>\n",
              "      <td>2.557421</td>\n",
              "      <td>6.712612</td>\n",
              "      <td>7.851370</td>\n",
              "      <td>7.996694</td>\n",
              "      <td>5.876254</td>\n",
              "      <td>8.196564</td>\n",
              "      <td>2.847958</td>\n",
              "      <td>0.526893</td>\n",
              "      <td>3.777245</td>\n",
              "      <td>0.285535</td>\n",
              "      <td>5.922210</td>\n",
              "      <td>1.523714</td>\n",
              "      <td>0.783367</td>\n",
              "      <td>2.615942</td>\n",
              "      <td>7.965198</td>\n",
              "      <td>2.159891</td>\n",
              "      <td>2.587830</td>\n",
              "      <td>4.322325</td>\n",
              "      <td>0.541614</td>\n",
              "      <td>5.179559</td>\n",
              "      <td>3.119978</td>\n",
              "      <td>2.249730</td>\n",
              "      <td>4.278903</td>\n",
              "      <td>...</td>\n",
              "      <td>10.880263</td>\n",
              "      <td>0.217938</td>\n",
              "      <td>1.419612</td>\n",
              "      <td>5.262056</td>\n",
              "      <td>5.457784</td>\n",
              "      <td>5.024182</td>\n",
              "      <td>0.369684</td>\n",
              "      <td>7.798020</td>\n",
              "      <td>3.105986</td>\n",
              "      <td>0.369437</td>\n",
              "      <td>4.424621</td>\n",
              "      <td>5.378008</td>\n",
              "      <td>8.674171</td>\n",
              "      <td>5.966674</td>\n",
              "      <td>7.136427</td>\n",
              "      <td>2.892167</td>\n",
              "      <td>7.513939</td>\n",
              "      <td>2.628895</td>\n",
              "      <td>8.579810</td>\n",
              "      <td>2.798956</td>\n",
              "      <td>5.261243</td>\n",
              "      <td>1.371862</td>\n",
              "      <td>8.963434</td>\n",
              "      <td>4.474924</td>\n",
              "      <td>9.318280</td>\n",
              "      <td>4.725167</td>\n",
              "      <td>3.189759</td>\n",
              "      <td>11.574708</td>\n",
              "      <td>3.944604</td>\n",
              "      <td>0.976348</td>\n",
              "      <td>4.559922</td>\n",
              "      <td>3.023272</td>\n",
              "      <td>1.478423</td>\n",
              "      <td>3.992030</td>\n",
              "      <td>3.135162</td>\n",
              "      <td>1.429372</td>\n",
              "      <td>5.454369</td>\n",
              "      <td>0.921625</td>\n",
              "      <td>3.010945</td>\n",
              "      <td>10.438015</td>\n",
              "    </tr>\n",
              "    <tr>\n",
              "      <th>min</th>\n",
              "      <td>0.000000</td>\n",
              "      <td>0.408400</td>\n",
              "      <td>-15.043400</td>\n",
              "      <td>2.117100</td>\n",
              "      <td>-0.040200</td>\n",
              "      <td>5.074800</td>\n",
              "      <td>-32.562600</td>\n",
              "      <td>2.347300</td>\n",
              "      <td>5.349700</td>\n",
              "      <td>-10.505500</td>\n",
              "      <td>3.970500</td>\n",
              "      <td>-20.731300</td>\n",
              "      <td>-26.095000</td>\n",
              "      <td>13.434600</td>\n",
              "      <td>-6.011100</td>\n",
              "      <td>1.013300</td>\n",
              "      <td>13.076900</td>\n",
              "      <td>0.635100</td>\n",
              "      <td>-33.380200</td>\n",
              "      <td>-10.664200</td>\n",
              "      <td>-12.402500</td>\n",
              "      <td>-5.432200</td>\n",
              "      <td>-10.089000</td>\n",
              "      <td>-5.322500</td>\n",
              "      <td>1.209800</td>\n",
              "      <td>-0.678400</td>\n",
              "      <td>12.720000</td>\n",
              "      <td>-24.243100</td>\n",
              "      <td>-6.166800</td>\n",
              "      <td>2.089600</td>\n",
              "      <td>-4.787200</td>\n",
              "      <td>-34.798400</td>\n",
              "      <td>2.140600</td>\n",
              "      <td>-8.986100</td>\n",
              "      <td>1.508500</td>\n",
              "      <td>9.816900</td>\n",
              "      <td>-16.513600</td>\n",
              "      <td>-8.095100</td>\n",
              "      <td>-1.183400</td>\n",
              "      <td>-6.337100</td>\n",
              "      <td>...</td>\n",
              "      <td>-7.452200</td>\n",
              "      <td>4.852600</td>\n",
              "      <td>0.623100</td>\n",
              "      <td>-6.531700</td>\n",
              "      <td>-19.997700</td>\n",
              "      <td>3.816700</td>\n",
              "      <td>1.851200</td>\n",
              "      <td>-35.969500</td>\n",
              "      <td>-5.250200</td>\n",
              "      <td>4.258800</td>\n",
              "      <td>-14.506000</td>\n",
              "      <td>-22.479300</td>\n",
              "      <td>-11.453300</td>\n",
              "      <td>-22.748700</td>\n",
              "      <td>-2.995300</td>\n",
              "      <td>3.241500</td>\n",
              "      <td>-29.116500</td>\n",
              "      <td>4.952100</td>\n",
              "      <td>-29.273400</td>\n",
              "      <td>-7.856100</td>\n",
              "      <td>-22.037400</td>\n",
              "      <td>5.416500</td>\n",
              "      <td>-26.001100</td>\n",
              "      <td>-4.808200</td>\n",
              "      <td>-18.489700</td>\n",
              "      <td>-22.583300</td>\n",
              "      <td>-3.022300</td>\n",
              "      <td>-47.753600</td>\n",
              "      <td>4.412300</td>\n",
              "      <td>-2.554300</td>\n",
              "      <td>-14.093300</td>\n",
              "      <td>-2.691700</td>\n",
              "      <td>-3.814500</td>\n",
              "      <td>-11.783400</td>\n",
              "      <td>8.694400</td>\n",
              "      <td>-5.261000</td>\n",
              "      <td>-14.209600</td>\n",
              "      <td>5.960600</td>\n",
              "      <td>6.299300</td>\n",
              "      <td>-38.852800</td>\n",
              "    </tr>\n",
              "    <tr>\n",
              "      <th>25%</th>\n",
              "      <td>0.000000</td>\n",
              "      <td>8.453850</td>\n",
              "      <td>-4.740025</td>\n",
              "      <td>8.722475</td>\n",
              "      <td>5.254075</td>\n",
              "      <td>9.883175</td>\n",
              "      <td>-11.200350</td>\n",
              "      <td>4.767700</td>\n",
              "      <td>13.943800</td>\n",
              "      <td>-2.317800</td>\n",
              "      <td>6.618800</td>\n",
              "      <td>-3.594950</td>\n",
              "      <td>-7.510600</td>\n",
              "      <td>13.894000</td>\n",
              "      <td>5.072800</td>\n",
              "      <td>5.781875</td>\n",
              "      <td>14.262800</td>\n",
              "      <td>7.452275</td>\n",
              "      <td>-10.476225</td>\n",
              "      <td>9.177950</td>\n",
              "      <td>6.276475</td>\n",
              "      <td>8.627800</td>\n",
              "      <td>11.551000</td>\n",
              "      <td>2.182400</td>\n",
              "      <td>2.634100</td>\n",
              "      <td>7.613000</td>\n",
              "      <td>13.456400</td>\n",
              "      <td>-8.321725</td>\n",
              "      <td>-2.307900</td>\n",
              "      <td>4.992100</td>\n",
              "      <td>3.171700</td>\n",
              "      <td>-13.766175</td>\n",
              "      <td>8.870000</td>\n",
              "      <td>-2.500875</td>\n",
              "      <td>11.456300</td>\n",
              "      <td>11.032300</td>\n",
              "      <td>0.116975</td>\n",
              "      <td>-0.007125</td>\n",
              "      <td>4.125475</td>\n",
              "      <td>7.591050</td>\n",
              "      <td>...</td>\n",
              "      <td>15.696125</td>\n",
              "      <td>5.470500</td>\n",
              "      <td>4.326100</td>\n",
              "      <td>7.029600</td>\n",
              "      <td>-7.094025</td>\n",
              "      <td>15.744550</td>\n",
              "      <td>2.699000</td>\n",
              "      <td>-9.643100</td>\n",
              "      <td>2.703200</td>\n",
              "      <td>5.374600</td>\n",
              "      <td>-3.258500</td>\n",
              "      <td>-4.720350</td>\n",
              "      <td>13.731775</td>\n",
              "      <td>-5.009525</td>\n",
              "      <td>15.064600</td>\n",
              "      <td>9.371600</td>\n",
              "      <td>-8.386500</td>\n",
              "      <td>9.808675</td>\n",
              "      <td>-7.395700</td>\n",
              "      <td>0.625575</td>\n",
              "      <td>-6.673900</td>\n",
              "      <td>9.084700</td>\n",
              "      <td>-6.064425</td>\n",
              "      <td>5.423100</td>\n",
              "      <td>5.663300</td>\n",
              "      <td>-7.360000</td>\n",
              "      <td>6.715200</td>\n",
              "      <td>-19.205125</td>\n",
              "      <td>12.501550</td>\n",
              "      <td>0.014900</td>\n",
              "      <td>-0.058825</td>\n",
              "      <td>5.157400</td>\n",
              "      <td>0.889775</td>\n",
              "      <td>0.584600</td>\n",
              "      <td>15.629800</td>\n",
              "      <td>-1.170700</td>\n",
              "      <td>-1.946925</td>\n",
              "      <td>8.252800</td>\n",
              "      <td>13.829700</td>\n",
              "      <td>-11.208475</td>\n",
              "    </tr>\n",
              "    <tr>\n",
              "      <th>50%</th>\n",
              "      <td>0.000000</td>\n",
              "      <td>10.524750</td>\n",
              "      <td>-1.608050</td>\n",
              "      <td>10.580000</td>\n",
              "      <td>6.825000</td>\n",
              "      <td>11.108250</td>\n",
              "      <td>-4.833150</td>\n",
              "      <td>5.385100</td>\n",
              "      <td>16.456800</td>\n",
              "      <td>0.393700</td>\n",
              "      <td>7.629600</td>\n",
              "      <td>0.487300</td>\n",
              "      <td>-3.286950</td>\n",
              "      <td>14.025500</td>\n",
              "      <td>8.604250</td>\n",
              "      <td>7.520300</td>\n",
              "      <td>14.574100</td>\n",
              "      <td>9.232050</td>\n",
              "      <td>-5.666350</td>\n",
              "      <td>15.196250</td>\n",
              "      <td>12.453900</td>\n",
              "      <td>13.196800</td>\n",
              "      <td>17.234250</td>\n",
              "      <td>4.275150</td>\n",
              "      <td>3.008650</td>\n",
              "      <td>10.380350</td>\n",
              "      <td>13.662500</td>\n",
              "      <td>-4.196900</td>\n",
              "      <td>-1.132100</td>\n",
              "      <td>5.534850</td>\n",
              "      <td>4.950200</td>\n",
              "      <td>-7.411750</td>\n",
              "      <td>10.365650</td>\n",
              "      <td>-0.497650</td>\n",
              "      <td>14.576000</td>\n",
              "      <td>11.435200</td>\n",
              "      <td>3.917750</td>\n",
              "      <td>2.198000</td>\n",
              "      <td>5.900650</td>\n",
              "      <td>10.562700</td>\n",
              "      <td>...</td>\n",
              "      <td>23.864500</td>\n",
              "      <td>5.633500</td>\n",
              "      <td>5.359700</td>\n",
              "      <td>10.788700</td>\n",
              "      <td>-2.637800</td>\n",
              "      <td>19.270800</td>\n",
              "      <td>2.960200</td>\n",
              "      <td>-4.011600</td>\n",
              "      <td>4.761600</td>\n",
              "      <td>5.634300</td>\n",
              "      <td>0.002800</td>\n",
              "      <td>-0.807350</td>\n",
              "      <td>19.748000</td>\n",
              "      <td>-0.569750</td>\n",
              "      <td>20.206100</td>\n",
              "      <td>11.679800</td>\n",
              "      <td>-2.538450</td>\n",
              "      <td>11.737250</td>\n",
              "      <td>-0.942050</td>\n",
              "      <td>2.512300</td>\n",
              "      <td>-2.688800</td>\n",
              "      <td>10.036050</td>\n",
              "      <td>0.720200</td>\n",
              "      <td>8.600000</td>\n",
              "      <td>12.521000</td>\n",
              "      <td>-3.946950</td>\n",
              "      <td>8.902150</td>\n",
              "      <td>-10.209750</td>\n",
              "      <td>15.239450</td>\n",
              "      <td>0.742600</td>\n",
              "      <td>3.203600</td>\n",
              "      <td>7.347750</td>\n",
              "      <td>1.901300</td>\n",
              "      <td>3.396350</td>\n",
              "      <td>17.957950</td>\n",
              "      <td>-0.172700</td>\n",
              "      <td>2.408900</td>\n",
              "      <td>8.888200</td>\n",
              "      <td>15.934050</td>\n",
              "      <td>-2.819550</td>\n",
              "    </tr>\n",
              "    <tr>\n",
              "      <th>75%</th>\n",
              "      <td>0.000000</td>\n",
              "      <td>12.758200</td>\n",
              "      <td>1.358625</td>\n",
              "      <td>12.516700</td>\n",
              "      <td>8.324100</td>\n",
              "      <td>12.261125</td>\n",
              "      <td>0.924800</td>\n",
              "      <td>6.003000</td>\n",
              "      <td>19.102900</td>\n",
              "      <td>2.937900</td>\n",
              "      <td>8.584425</td>\n",
              "      <td>4.382925</td>\n",
              "      <td>0.852825</td>\n",
              "      <td>14.164200</td>\n",
              "      <td>12.274775</td>\n",
              "      <td>9.270425</td>\n",
              "      <td>14.874500</td>\n",
              "      <td>11.055900</td>\n",
              "      <td>-0.810775</td>\n",
              "      <td>21.013325</td>\n",
              "      <td>18.433300</td>\n",
              "      <td>17.879400</td>\n",
              "      <td>23.089050</td>\n",
              "      <td>6.293200</td>\n",
              "      <td>3.403800</td>\n",
              "      <td>13.479600</td>\n",
              "      <td>13.863700</td>\n",
              "      <td>-0.090200</td>\n",
              "      <td>0.015625</td>\n",
              "      <td>6.093700</td>\n",
              "      <td>6.798925</td>\n",
              "      <td>-1.443450</td>\n",
              "      <td>11.885000</td>\n",
              "      <td>1.469100</td>\n",
              "      <td>18.097125</td>\n",
              "      <td>11.844400</td>\n",
              "      <td>7.487725</td>\n",
              "      <td>4.460400</td>\n",
              "      <td>7.542400</td>\n",
              "      <td>13.598925</td>\n",
              "      <td>...</td>\n",
              "      <td>32.622850</td>\n",
              "      <td>5.792000</td>\n",
              "      <td>6.371200</td>\n",
              "      <td>14.623900</td>\n",
              "      <td>1.323600</td>\n",
              "      <td>23.024025</td>\n",
              "      <td>3.241500</td>\n",
              "      <td>1.318725</td>\n",
              "      <td>7.020025</td>\n",
              "      <td>5.905400</td>\n",
              "      <td>3.096400</td>\n",
              "      <td>2.956800</td>\n",
              "      <td>25.907725</td>\n",
              "      <td>3.619900</td>\n",
              "      <td>25.641225</td>\n",
              "      <td>13.745500</td>\n",
              "      <td>2.704400</td>\n",
              "      <td>13.931300</td>\n",
              "      <td>5.338750</td>\n",
              "      <td>4.391125</td>\n",
              "      <td>0.996200</td>\n",
              "      <td>11.011300</td>\n",
              "      <td>7.499175</td>\n",
              "      <td>12.127425</td>\n",
              "      <td>19.456150</td>\n",
              "      <td>-0.590650</td>\n",
              "      <td>11.193800</td>\n",
              "      <td>-1.466000</td>\n",
              "      <td>18.345225</td>\n",
              "      <td>1.482900</td>\n",
              "      <td>6.406200</td>\n",
              "      <td>9.512525</td>\n",
              "      <td>2.949500</td>\n",
              "      <td>6.205800</td>\n",
              "      <td>20.396525</td>\n",
              "      <td>0.829600</td>\n",
              "      <td>6.556725</td>\n",
              "      <td>9.593300</td>\n",
              "      <td>18.064725</td>\n",
              "      <td>4.836800</td>\n",
              "    </tr>\n",
              "    <tr>\n",
              "      <th>max</th>\n",
              "      <td>1.000000</td>\n",
              "      <td>20.315000</td>\n",
              "      <td>10.376800</td>\n",
              "      <td>19.353000</td>\n",
              "      <td>13.188300</td>\n",
              "      <td>16.671400</td>\n",
              "      <td>17.251600</td>\n",
              "      <td>8.447700</td>\n",
              "      <td>27.691800</td>\n",
              "      <td>10.151300</td>\n",
              "      <td>11.150600</td>\n",
              "      <td>18.670200</td>\n",
              "      <td>17.188700</td>\n",
              "      <td>14.654500</td>\n",
              "      <td>22.331500</td>\n",
              "      <td>14.937700</td>\n",
              "      <td>15.863300</td>\n",
              "      <td>17.950600</td>\n",
              "      <td>19.025900</td>\n",
              "      <td>41.748000</td>\n",
              "      <td>35.183000</td>\n",
              "      <td>31.285900</td>\n",
              "      <td>49.044300</td>\n",
              "      <td>14.594500</td>\n",
              "      <td>4.875200</td>\n",
              "      <td>25.446000</td>\n",
              "      <td>14.654600</td>\n",
              "      <td>15.675100</td>\n",
              "      <td>3.243100</td>\n",
              "      <td>8.787400</td>\n",
              "      <td>13.143100</td>\n",
              "      <td>15.651500</td>\n",
              "      <td>20.171900</td>\n",
              "      <td>6.787100</td>\n",
              "      <td>29.546600</td>\n",
              "      <td>13.287800</td>\n",
              "      <td>21.528900</td>\n",
              "      <td>14.245600</td>\n",
              "      <td>11.863800</td>\n",
              "      <td>29.823500</td>\n",
              "      <td>...</td>\n",
              "      <td>58.394200</td>\n",
              "      <td>6.309900</td>\n",
              "      <td>10.134400</td>\n",
              "      <td>27.564800</td>\n",
              "      <td>12.119300</td>\n",
              "      <td>38.332200</td>\n",
              "      <td>4.220400</td>\n",
              "      <td>21.276600</td>\n",
              "      <td>14.886100</td>\n",
              "      <td>7.089000</td>\n",
              "      <td>16.731900</td>\n",
              "      <td>17.917300</td>\n",
              "      <td>53.591900</td>\n",
              "      <td>18.855400</td>\n",
              "      <td>43.546800</td>\n",
              "      <td>20.854800</td>\n",
              "      <td>20.245200</td>\n",
              "      <td>20.596500</td>\n",
              "      <td>29.841300</td>\n",
              "      <td>13.448700</td>\n",
              "      <td>12.750500</td>\n",
              "      <td>14.393900</td>\n",
              "      <td>29.248700</td>\n",
              "      <td>23.704900</td>\n",
              "      <td>44.363400</td>\n",
              "      <td>12.997500</td>\n",
              "      <td>21.739200</td>\n",
              "      <td>22.786100</td>\n",
              "      <td>29.330300</td>\n",
              "      <td>4.034100</td>\n",
              "      <td>18.440900</td>\n",
              "      <td>16.716500</td>\n",
              "      <td>8.402400</td>\n",
              "      <td>18.281800</td>\n",
              "      <td>27.928800</td>\n",
              "      <td>4.272900</td>\n",
              "      <td>18.321500</td>\n",
              "      <td>12.000400</td>\n",
              "      <td>26.079100</td>\n",
              "      <td>28.500700</td>\n",
              "    </tr>\n",
              "  </tbody>\n",
              "</table>\n",
              "<p>8 rows × 201 columns</p>\n",
              "</div>"
            ],
            "text/plain": [
              "              target          var_0  ...        var_198        var_199\n",
              "count  200000.000000  200000.000000  ...  200000.000000  200000.000000\n",
              "mean        0.100490      10.679914  ...      15.870720      -3.326537\n",
              "std         0.300653       3.040051  ...       3.010945      10.438015\n",
              "min         0.000000       0.408400  ...       6.299300     -38.852800\n",
              "25%         0.000000       8.453850  ...      13.829700     -11.208475\n",
              "50%         0.000000      10.524750  ...      15.934050      -2.819550\n",
              "75%         0.000000      12.758200  ...      18.064725       4.836800\n",
              "max         1.000000      20.315000  ...      26.079100      28.500700\n",
              "\n",
              "[8 rows x 201 columns]"
            ]
          },
          "metadata": {
            "tags": []
          },
          "execution_count": 20
        }
      ]
    },
    {
      "cell_type": "markdown",
      "metadata": {
        "id": "TQgz_07szEvI"
      },
      "source": [
        "**Checking for null values**"
      ]
    },
    {
      "cell_type": "code",
      "metadata": {
        "id": "7TrAehK8txyB",
        "outputId": "ee99ecb1-7b62-4c87-d6b5-5802ce896d3c"
      },
      "source": [
        "null_values = pd.DataFrame(train.isnull().sum()).reset_index(drop=False)\n",
        "null_values.columns = [\"index\",\"value\"]\n",
        "null_values.loc[null_values[\"value\"]>0]"
      ],
      "execution_count": null,
      "outputs": [
        {
          "output_type": "execute_result",
          "data": {
            "text/html": [
              "<div>\n",
              "<style scoped>\n",
              "    .dataframe tbody tr th:only-of-type {\n",
              "        vertical-align: middle;\n",
              "    }\n",
              "\n",
              "    .dataframe tbody tr th {\n",
              "        vertical-align: top;\n",
              "    }\n",
              "\n",
              "    .dataframe thead th {\n",
              "        text-align: right;\n",
              "    }\n",
              "</style>\n",
              "<table border=\"1\" class=\"dataframe\">\n",
              "  <thead>\n",
              "    <tr style=\"text-align: right;\">\n",
              "      <th></th>\n",
              "      <th>index</th>\n",
              "      <th>value</th>\n",
              "    </tr>\n",
              "  </thead>\n",
              "  <tbody>\n",
              "  </tbody>\n",
              "</table>\n",
              "</div>"
            ],
            "text/plain": [
              "Empty DataFrame\n",
              "Columns: [index, value]\n",
              "Index: []"
            ]
          },
          "metadata": {
            "tags": []
          },
          "execution_count": 6
        }
      ]
    },
    {
      "cell_type": "markdown",
      "metadata": {
        "id": "cO_nx9LDzLxd"
      },
      "source": [
        "**Checking for duplicate values**"
      ]
    },
    {
      "cell_type": "code",
      "metadata": {
        "colab": {
          "base_uri": "https://localhost:8080/"
        },
        "id": "7dtJpCICtxyC",
        "outputId": "a6df8ea1-d4c7-415f-c70c-f0e7d3d44d41"
      },
      "source": [
        "np.sum(train.duplicated())"
      ],
      "execution_count": 21,
      "outputs": [
        {
          "output_type": "execute_result",
          "data": {
            "text/plain": [
              "0"
            ]
          },
          "metadata": {
            "tags": []
          },
          "execution_count": 21
        }
      ]
    },
    {
      "cell_type": "markdown",
      "metadata": {
        "id": "yw5YdJxWzZCs"
      },
      "source": [
        "**Checking coorelation between the variables**"
      ]
    },
    {
      "cell_type": "code",
      "metadata": {
        "id": "whnu-A2PtxyD"
      },
      "source": [
        "corr = train.corr()"
      ],
      "execution_count": 52,
      "outputs": []
    },
    {
      "cell_type": "markdown",
      "metadata": {
        "id": "1J6yAAswzigr"
      },
      "source": [
        "**Checking for which variables the coorelation is greater than 50% with the dependent variable**"
      ]
    },
    {
      "cell_type": "code",
      "metadata": {
        "colab": {
          "base_uri": "https://localhost:8080/",
          "height": 129
        },
        "id": "pTLv1Yg6txyD",
        "outputId": "51226a87-06dc-4204-9fc3-8471d7b54b6e"
      },
      "source": [
        "corr.loc[(corr[\"target\"]>=0.5)]"
      ],
      "execution_count": 53,
      "outputs": [
        {
          "output_type": "execute_result",
          "data": {
            "text/html": [
              "<div>\n",
              "<style scoped>\n",
              "    .dataframe tbody tr th:only-of-type {\n",
              "        vertical-align: middle;\n",
              "    }\n",
              "\n",
              "    .dataframe tbody tr th {\n",
              "        vertical-align: top;\n",
              "    }\n",
              "\n",
              "    .dataframe thead th {\n",
              "        text-align: right;\n",
              "    }\n",
              "</style>\n",
              "<table border=\"1\" class=\"dataframe\">\n",
              "  <thead>\n",
              "    <tr style=\"text-align: right;\">\n",
              "      <th></th>\n",
              "      <th>target</th>\n",
              "      <th>var_0</th>\n",
              "      <th>var_1</th>\n",
              "      <th>var_2</th>\n",
              "      <th>var_3</th>\n",
              "      <th>var_4</th>\n",
              "      <th>var_5</th>\n",
              "      <th>var_6</th>\n",
              "      <th>var_7</th>\n",
              "      <th>var_8</th>\n",
              "      <th>var_9</th>\n",
              "      <th>var_10</th>\n",
              "      <th>var_11</th>\n",
              "      <th>var_12</th>\n",
              "      <th>var_13</th>\n",
              "      <th>var_14</th>\n",
              "      <th>var_15</th>\n",
              "      <th>var_16</th>\n",
              "      <th>var_17</th>\n",
              "      <th>var_18</th>\n",
              "      <th>var_19</th>\n",
              "      <th>var_20</th>\n",
              "      <th>var_21</th>\n",
              "      <th>var_22</th>\n",
              "      <th>var_23</th>\n",
              "      <th>var_24</th>\n",
              "      <th>var_25</th>\n",
              "      <th>var_26</th>\n",
              "      <th>var_27</th>\n",
              "      <th>var_28</th>\n",
              "      <th>var_29</th>\n",
              "      <th>var_30</th>\n",
              "      <th>var_31</th>\n",
              "      <th>var_32</th>\n",
              "      <th>var_33</th>\n",
              "      <th>var_34</th>\n",
              "      <th>var_35</th>\n",
              "      <th>var_36</th>\n",
              "      <th>var_37</th>\n",
              "      <th>var_38</th>\n",
              "      <th>...</th>\n",
              "      <th>var_160</th>\n",
              "      <th>var_161</th>\n",
              "      <th>var_162</th>\n",
              "      <th>var_163</th>\n",
              "      <th>var_164</th>\n",
              "      <th>var_165</th>\n",
              "      <th>var_166</th>\n",
              "      <th>var_167</th>\n",
              "      <th>var_168</th>\n",
              "      <th>var_169</th>\n",
              "      <th>var_170</th>\n",
              "      <th>var_171</th>\n",
              "      <th>var_172</th>\n",
              "      <th>var_173</th>\n",
              "      <th>var_174</th>\n",
              "      <th>var_175</th>\n",
              "      <th>var_176</th>\n",
              "      <th>var_177</th>\n",
              "      <th>var_178</th>\n",
              "      <th>var_179</th>\n",
              "      <th>var_180</th>\n",
              "      <th>var_181</th>\n",
              "      <th>var_182</th>\n",
              "      <th>var_183</th>\n",
              "      <th>var_184</th>\n",
              "      <th>var_185</th>\n",
              "      <th>var_186</th>\n",
              "      <th>var_187</th>\n",
              "      <th>var_188</th>\n",
              "      <th>var_189</th>\n",
              "      <th>var_190</th>\n",
              "      <th>var_191</th>\n",
              "      <th>var_192</th>\n",
              "      <th>var_193</th>\n",
              "      <th>var_194</th>\n",
              "      <th>var_195</th>\n",
              "      <th>var_196</th>\n",
              "      <th>var_197</th>\n",
              "      <th>var_198</th>\n",
              "      <th>var_199</th>\n",
              "    </tr>\n",
              "  </thead>\n",
              "  <tbody>\n",
              "    <tr>\n",
              "      <th>target</th>\n",
              "      <td>1.0</td>\n",
              "      <td>0.05239</td>\n",
              "      <td>0.050343</td>\n",
              "      <td>0.05587</td>\n",
              "      <td>0.011055</td>\n",
              "      <td>0.010915</td>\n",
              "      <td>0.030979</td>\n",
              "      <td>0.066731</td>\n",
              "      <td>-0.003025</td>\n",
              "      <td>0.019584</td>\n",
              "      <td>-0.042805</td>\n",
              "      <td>-0.002213</td>\n",
              "      <td>0.022993</td>\n",
              "      <td>-0.069489</td>\n",
              "      <td>-0.055156</td>\n",
              "      <td>-0.006332</td>\n",
              "      <td>0.017283</td>\n",
              "      <td>0.008117</td>\n",
              "      <td>0.000864</td>\n",
              "      <td>0.043479</td>\n",
              "      <td>0.011291</td>\n",
              "      <td>-0.018329</td>\n",
              "      <td>-0.058483</td>\n",
              "      <td>0.060558</td>\n",
              "      <td>-0.025473</td>\n",
              "      <td>0.028477</td>\n",
              "      <td>0.013328</td>\n",
              "      <td>0.062422</td>\n",
              "      <td>-0.000582</td>\n",
              "      <td>-0.023942</td>\n",
              "      <td>0.004682</td>\n",
              "      <td>0.000638</td>\n",
              "      <td>-0.025619</td>\n",
              "      <td>0.030513</td>\n",
              "      <td>-0.044334</td>\n",
              "      <td>-0.052692</td>\n",
              "      <td>0.036567</td>\n",
              "      <td>-0.038397</td>\n",
              "      <td>0.007685</td>\n",
              "      <td>0.00097</td>\n",
              "      <td>...</td>\n",
              "      <td>-0.005135</td>\n",
              "      <td>0.004168</td>\n",
              "      <td>0.032647</td>\n",
              "      <td>0.031811</td>\n",
              "      <td>0.040997</td>\n",
              "      <td>-0.055734</td>\n",
              "      <td>-0.057773</td>\n",
              "      <td>0.030797</td>\n",
              "      <td>0.014115</td>\n",
              "      <td>-0.048382</td>\n",
              "      <td>0.047973</td>\n",
              "      <td>0.014873</td>\n",
              "      <td>-0.037976</td>\n",
              "      <td>0.042022</td>\n",
              "      <td>-0.061669</td>\n",
              "      <td>0.021692</td>\n",
              "      <td>0.007469</td>\n",
              "      <td>-0.036863</td>\n",
              "      <td>-0.019681</td>\n",
              "      <td>0.050002</td>\n",
              "      <td>0.03119</td>\n",
              "      <td>0.013714</td>\n",
              "      <td>-0.007198</td>\n",
              "      <td>-0.005467</td>\n",
              "      <td>0.048315</td>\n",
              "      <td>0.000053</td>\n",
              "      <td>-0.030421</td>\n",
              "      <td>0.014873</td>\n",
              "      <td>-0.034015</td>\n",
              "      <td>0.009212</td>\n",
              "      <td>0.055973</td>\n",
              "      <td>0.047114</td>\n",
              "      <td>-0.042858</td>\n",
              "      <td>-0.017709</td>\n",
              "      <td>-0.022838</td>\n",
              "      <td>0.028285</td>\n",
              "      <td>0.023608</td>\n",
              "      <td>-0.035303</td>\n",
              "      <td>-0.053</td>\n",
              "      <td>0.025434</td>\n",
              "    </tr>\n",
              "  </tbody>\n",
              "</table>\n",
              "<p>1 rows × 201 columns</p>\n",
              "</div>"
            ],
            "text/plain": [
              "        target    var_0     var_1  ...   var_197  var_198   var_199\n",
              "target     1.0  0.05239  0.050343  ... -0.035303   -0.053  0.025434\n",
              "\n",
              "[1 rows x 201 columns]"
            ]
          },
          "metadata": {
            "tags": []
          },
          "execution_count": 53
        }
      ]
    },
    {
      "cell_type": "markdown",
      "metadata": {
        "id": "87V2nIAuzsIM"
      },
      "source": [
        "**Heatmap of the coorelation matrix**"
      ]
    },
    {
      "cell_type": "code",
      "metadata": {
        "id": "lNOwWJEvtxyE",
        "outputId": "3c5f684e-0649-4a1f-8d76-4c1acd1a190f"
      },
      "source": [
        "sns.heatmap(corr)"
      ],
      "execution_count": null,
      "outputs": [
        {
          "output_type": "execute_result",
          "data": {
            "text/plain": [
              "<AxesSubplot:>"
            ]
          },
          "metadata": {
            "tags": []
          },
          "execution_count": 10
        },
        {
          "output_type": "display_data",
          "data": {
            "image/png": "[encoded data removed]",
            "text/plain": [
              "<Figure size 432x288 with 2 Axes>"
            ]
          },
          "metadata": {
            "tags": [],
            "needs_background": "light"
          }
        }
      ]
    },
    {
      "cell_type": "markdown",
      "metadata": {
        "id": "2Qz9D0-Fzz_6"
      },
      "source": [
        "**Checking the count of dependent variable**"
      ]
    },
    {
      "cell_type": "code",
      "metadata": {
        "id": "rKSAcUZGtxyF",
        "outputId": "eb4790f8-f681-49aa-d786-aeca901beaa9"
      },
      "source": [
        "sns.countplot('target', data=train)"
      ],
      "execution_count": null,
      "outputs": [
        {
          "output_type": "stream",
          "text": [
            "C:\\Users\\Lenovo\\Anaconda3\\lib\\site-packages\\seaborn\\_decorators.py:36: FutureWarning: Pass the following variable as a keyword arg: x. From version 0.12, the only valid positional argument will be `data`, and passing other arguments without an explicit keyword will result in an error or misinterpretation.\n",
            "  warnings.warn(\n"
          ],
          "name": "stderr"
        },
        {
          "output_type": "execute_result",
          "data": {
            "text/plain": [
              "<AxesSubplot:xlabel='target', ylabel='count'>"
            ]
          },
          "metadata": {
            "tags": []
          },
          "execution_count": 11
        },
        {
          "output_type": "display_data",
          "data": {
            "image/png": "[encoded data removed]",
            "text/plain": [
              "<Figure size 432x288 with 1 Axes>"
            ]
          },
          "metadata": {
            "tags": [],
            "needs_background": "light"
          }
        }
      ]
    },
    {
      "cell_type": "markdown",
      "metadata": {
        "id": "WEWYZeS1z_jW"
      },
      "source": [
        "**Bivariate analysis - checking which variables have different mean for the 2 classes of the dependent variable**"
      ]
    },
    {
      "cell_type": "code",
      "metadata": {
        "id": "jt6O7n7PtxyF"
      },
      "source": [
        "init_cols = train.columns[1:]\n",
        "stat_table = pd.DataFrame()\n",
        "means_0 = []\n",
        "means_1 = []\n",
        "for i in init_cols:\n",
        "    means_0.append(train[train['target']==0][i].mean())\n",
        "    means_1.append(train[train['target']==1][i].mean())\n"
      ],
      "execution_count": null,
      "outputs": []
    },
    {
      "cell_type": "code",
      "metadata": {
        "id": "1m0WPFLQtxyG",
        "outputId": "53767ef9-2dc0-4357-9d2a-04ce72b06340"
      },
      "source": [
        "stat_table[\"feat\"] = init_cols\n",
        "stat_table[\"0\"] = means_0\n",
        "stat_table[\"1\"] = means_1\n",
        "stat_table[\"Class 0\"] = stat_table.apply(lambda x: x[\"0\"]/(x[\"0\"]+x[\"1\"]), 1)\n",
        "stat_table[\"Class 1\"] = stat_table.apply(lambda x: x[\"1\"]/(x[\"0\"]+x[\"1\"]), 1)\n",
        "stat_table = stat_table[[\"feat\", \"Class 0\", \"Class 1\"]]\n",
        "plt.figure(figsize=(15,15))\n",
        "sns.heatmap(stat_table[[\"Class 0\", \"Class 1\"]], cmap='coolwarm')"
      ],
      "execution_count": null,
      "outputs": [
        {
          "output_type": "execute_result",
          "data": {
            "text/plain": [
              "<AxesSubplot:>"
            ]
          },
          "metadata": {
            "tags": []
          },
          "execution_count": 13
        },
        {
          "output_type": "display_data",
          "data": {
            "image/png": "[encoded data removed]",
            "text/plain": [
              "<Figure size 1080x1080 with 2 Axes>"
            ]
          },
          "metadata": {
            "tags": [],
            "needs_background": "light"
          }
        }
      ]
    },
    {
      "cell_type": "code",
      "metadata": {
        "id": "YOlsy5LgtxyH"
      },
      "source": [
        "stat_table[\"var\"] = stat_table.apply(lambda x: np.abs(x[\"Class 0\"] - x[\"Class 1\"])>0.05  , 1)\n",
        "stat_table = stat_table[stat_table['var']==True]"
      ],
      "execution_count": null,
      "outputs": []
    },
    {
      "cell_type": "markdown",
      "metadata": {
        "id": "Fcp9kV7F0SQg"
      },
      "source": [
        "**Undersampling the train data set**"
      ]
    },
    {
      "cell_type": "code",
      "metadata": {
        "id": "4YzwYzjetxyH"
      },
      "source": [
        "n_positive = len(train.loc[train[\"target\"]==1])\n",
        "class_1_df = train.loc[train[\"target\"]==1].copy()\n",
        "class_0_df = train.loc[train[\"target\"]==0].sample(n_positive,replace = False)\n",
        "resampled_train = class_1_df.append(class_0_df, ignore_index=True)"
      ],
      "execution_count": 22,
      "outputs": []
    },
    {
      "cell_type": "markdown",
      "metadata": {
        "id": "xjPIalfX0YNj"
      },
      "source": [
        "**Splitting train dataset for training and model evaluation**"
      ]
    },
    {
      "cell_type": "code",
      "metadata": {
        "id": "XX_E7rHFtxyI"
      },
      "source": [
        "y = resampled_train.loc[:,train.columns == \"target\"]\n",
        "X = resampled_train.loc[:, train.columns != \"target\"]\n",
        "X_train, X_test, y_train, y_test = train_test_split(X,y, test_size=0.3, random_state=0)"
      ],
      "execution_count": 23,
      "outputs": []
    },
    {
      "cell_type": "code",
      "metadata": {
        "colab": {
          "base_uri": "https://localhost:8080/"
        },
        "id": "owpRAEEntxyI",
        "outputId": "59d68bf8-0c88-487f-95b4-7bee1787de9e"
      },
      "source": [
        "print(X_train.shape)\n",
        "print(X_test.shape)\n",
        "print(y_train.shape)\n",
        "print(y_test.shape)"
      ],
      "execution_count": 24,
      "outputs": [
        {
          "output_type": "stream",
          "text": [
            "(28137, 200)\n",
            "(12059, 200)\n",
            "(28137, 1)\n",
            "(12059, 1)\n"
          ],
          "name": "stdout"
        }
      ]
    },
    {
      "cell_type": "markdown",
      "metadata": {
        "id": "F91NO-PN13aT"
      },
      "source": [
        "**Scaling train and test data**"
      ]
    },
    {
      "cell_type": "code",
      "metadata": {
        "id": "rP5tl-xZ1k1f"
      },
      "source": [
        "min_max_scaler = preprocessing.MinMaxScaler()\r\n",
        "X_train_scaled = min_max_scaler.fit_transform(X_train)\r\n",
        "X_test_scaled = min_max_scaler.transform(X_test)"
      ],
      "execution_count": 35,
      "outputs": []
    },
    {
      "cell_type": "markdown",
      "metadata": {
        "id": "vvhKPV8N0t6x"
      },
      "source": [
        "**Logistic Regression model**"
      ]
    },
    {
      "cell_type": "code",
      "metadata": {
        "id": "ZFegRjBrtxyJ"
      },
      "source": [
        "logistic = LogisticRegression()\n",
        "model1 = logistic.fit(X_train_scaled,  y_train[\"target\"])"
      ],
      "execution_count": 37,
      "outputs": []
    },
    {
      "cell_type": "code",
      "metadata": {
        "colab": {
          "base_uri": "https://localhost:8080/"
        },
        "id": "zjgI2y3XtxyJ",
        "outputId": "560341fe-b23d-4c26-ab59-d2530b1adca7"
      },
      "source": [
        "acc_metrics(model1, X_train_scaled, X_test_scaled, y_train, y_test)"
      ],
      "execution_count": 40,
      "outputs": [
        {
          "output_type": "stream",
          "text": [
            "train accuracy score =  0.78\n",
            "test accuracy score =  0.77\n",
            "test precision score =  0.77\n",
            "test recall score =  0.77\n"
          ],
          "name": "stdout"
        }
      ]
    },
    {
      "cell_type": "markdown",
      "metadata": {
        "id": "khkels3X3id-"
      },
      "source": [
        "**Random Forests model**"
      ]
    },
    {
      "cell_type": "code",
      "metadata": {
        "id": "PGCuZnvAtxyK"
      },
      "source": [
        "rf = RandomForestClassifier()\n",
        "model2 = rf.fit(X_train_scaled, y_train[\"target\"])"
      ],
      "execution_count": 43,
      "outputs": []
    },
    {
      "cell_type": "code",
      "metadata": {
        "collapsed": true,
        "colab": {
          "base_uri": "https://localhost:8080/"
        },
        "id": "Lx-YnIaltxyK",
        "outputId": "edddcd51-4d3d-4556-fe5e-cfa12e8b3bde"
      },
      "source": [
        "acc_metrics(model2, X_train_scaled, X_test_scaled, y_train, y_test)"
      ],
      "execution_count": 44,
      "outputs": [
        {
          "output_type": "stream",
          "text": [
            "train accuracy score =  1.00\n",
            "test accuracy score =  0.74\n",
            "test precision score =  0.74\n",
            "test recall score =  0.75\n"
          ],
          "name": "stdout"
        }
      ]
    },
    {
      "cell_type": "markdown",
      "metadata": {
        "id": "v6Az_vqZ4ey4"
      },
      "source": [
        "**Gradient Boosting model**"
      ]
    },
    {
      "cell_type": "code",
      "metadata": {
        "collapsed": true,
        "id": "gN1bus8KtxyL"
      },
      "source": [
        "gbm = GradientBoostingClassifier()\n",
        "model3 = gbm.fit(X_train_scaled, y_train[\"target\"])"
      ],
      "execution_count": 45,
      "outputs": []
    },
    {
      "cell_type": "code",
      "metadata": {
        "collapsed": true,
        "colab": {
          "base_uri": "https://localhost:8080/"
        },
        "id": "b9V7vLbitxyL",
        "outputId": "a5702fec-330b-4cbf-e5b4-06c16864f603"
      },
      "source": [
        "acc_metrics(model3, X_train_scaled, X_test_scaled, y_train, y_test)"
      ],
      "execution_count": 46,
      "outputs": [
        {
          "output_type": "stream",
          "text": [
            "train accuracy score =  0.80\n",
            "test accuracy score =  0.75\n",
            "test precision score =  0.76\n",
            "test recall score =  0.72\n"
          ],
          "name": "stdout"
        }
      ]
    },
    {
      "cell_type": "markdown",
      "metadata": {
        "id": "mE10P23Q4qC2"
      },
      "source": [
        "**XGB model**"
      ]
    },
    {
      "cell_type": "code",
      "metadata": {
        "collapsed": true,
        "colab": {
          "base_uri": "https://localhost:8080/"
        },
        "id": "nbD4dcS3txyM",
        "outputId": "f3d3678b-31e4-4ccd-df8a-b0107a875632"
      },
      "source": [
        "xgb = xgb.XGBClassifier()\n",
        "model4 = xgb.fit(X_train_scaled,y_train)"
      ],
      "execution_count": 47,
      "outputs": [
        {
          "output_type": "stream",
          "text": [
            "/usr/local/lib/python3.6/dist-packages/sklearn/preprocessing/_label.py:235: DataConversionWarning: A column-vector y was passed when a 1d array was expected. Please change the shape of y to (n_samples, ), for example using ravel().\n",
            "  y = column_or_1d(y, warn=True)\n",
            "/usr/local/lib/python3.6/dist-packages/sklearn/preprocessing/_label.py:268: DataConversionWarning: A column-vector y was passed when a 1d array was expected. Please change the shape of y to (n_samples, ), for example using ravel().\n",
            "  y = column_or_1d(y, warn=True)\n"
          ],
          "name": "stderr"
        }
      ]
    },
    {
      "cell_type": "code",
      "metadata": {
        "colab": {
          "base_uri": "https://localhost:8080/"
        },
        "id": "m7R-3bbmtxyN",
        "outputId": "06e8db87-faa1-4f00-b20c-7210a90b1e8d"
      },
      "source": [
        "acc_metrics(model4, X_train_scaled, X_test_scaled, y_train, y_test)"
      ],
      "execution_count": 50,
      "outputs": [
        {
          "output_type": "stream",
          "text": [
            "train accuracy score =  0.80\n",
            "test accuracy score =  0.75\n",
            "test precision score =  0.76\n",
            "test recall score =  0.72\n"
          ],
          "name": "stdout"
        }
      ]
    },
    {
      "cell_type": "code",
      "metadata": {
        "id": "ZZpEePRttxyN"
      },
      "source": [
        ""
      ],
      "execution_count": null,
      "outputs": []
    },
    {
      "cell_type": "code",
      "metadata": {
        "id": "VphuqJGztxyO"
      },
      "source": [
        ""
      ],
      "execution_count": null,
      "outputs": []
    },
    {
      "cell_type": "code",
      "metadata": {
        "id": "fDoDnrA9txyO"
      },
      "source": [
        ""
      ],
      "execution_count": null,
      "outputs": []
    },
    {
      "cell_type": "code",
      "metadata": {
        "id": "sYM8vKR0txyO"
      },
      "source": [
        ""
      ],
      "execution_count": null,
      "outputs": []
    },
    {
      "cell_type": "code",
      "metadata": {
        "id": "Prub96H7txyP"
      },
      "source": [
        ""
      ],
      "execution_count": null,
      "outputs": []
    },
    {
      "cell_type": "code",
      "metadata": {
        "id": "85FqRpV2txyP"
      },
      "source": [
        ""
      ],
      "execution_count": null,
      "outputs": []
    },
    {
      "cell_type": "code",
      "metadata": {
        "id": "bntVJmsItxyP"
      },
      "source": [
        ""
      ],
      "execution_count": null,
      "outputs": []
    },
    {
      "cell_type": "code",
      "metadata": {
        "id": "W5DDpPg8txyQ"
      },
      "source": [
        ""
      ],
      "execution_count": null,
      "outputs": []
    },
    {
      "cell_type": "code",
      "metadata": {
        "id": "YYkZnGajtxyQ"
      },
      "source": [
        ""
      ],
      "execution_count": null,
      "outputs": []
    },
    {
      "cell_type": "code",
      "metadata": {
        "id": "he0tR0jRtxyQ"
      },
      "source": [
        ""
      ],
      "execution_count": null,
      "outputs": []
    },
    {
      "cell_type": "code",
      "metadata": {
        "id": "LJIh6VFGtxyR"
      },
      "source": [
        ""
      ],
      "execution_count": null,
      "outputs": []
    },
    {
      "cell_type": "code",
      "metadata": {
        "id": "hgmCH192txyR"
      },
      "source": [
        ""
      ],
      "execution_count": null,
      "outputs": []
    },
    {
      "cell_type": "code",
      "metadata": {
        "id": "FMh8pny3txyR"
      },
      "source": [
        ""
      ],
      "execution_count": null,
      "outputs": []
    },
    {
      "cell_type": "code",
      "metadata": {
        "id": "ELYf5ZrqtxyS"
      },
      "source": [
        ""
      ],
      "execution_count": null,
      "outputs": []
    },
    {
      "cell_type": "code",
      "metadata": {
        "id": "LzIvGPG-txyS"
      },
      "source": [
        ""
      ],
      "execution_count": null,
      "outputs": []
    },
    {
      "cell_type": "code",
      "metadata": {
        "id": "e6gUb6dCtxyS"
      },
      "source": [
        ""
      ],
      "execution_count": null,
      "outputs": []
    },
    {
      "cell_type": "code",
      "metadata": {
        "id": "RfWba1w3txyT"
      },
      "source": [
        ""
      ],
      "execution_count": null,
      "outputs": []
    },
    {
      "cell_type": "code",
      "metadata": {
        "id": "AoJTWBoZtxyT"
      },
      "source": [
        ""
      ],
      "execution_count": null,
      "outputs": []
    },
    {
      "cell_type": "code",
      "metadata": {
        "id": "WSwLN2w7txyT"
      },
      "source": [
        ""
      ],
      "execution_count": null,
      "outputs": []
    },
    {
      "cell_type": "code",
      "metadata": {
        "id": "RFsI5jO8txyU"
      },
      "source": [
        ""
      ],
      "execution_count": null,
      "outputs": []
    },
    {
      "cell_type": "code",
      "metadata": {
        "id": "joCzGs8EtxyU"
      },
      "source": [
        ""
      ],
      "execution_count": null,
      "outputs": []
    },
    {
      "cell_type": "code",
      "metadata": {
        "id": "hTC9l5-dtxyU"
      },
      "source": [
        ""
      ],
      "execution_count": null,
      "outputs": []
    },
    {
      "cell_type": "code",
      "metadata": {
        "id": "Pm1UWDnTtxyV"
      },
      "source": [
        ""
      ],
      "execution_count": null,
      "outputs": []
    },
    {
      "cell_type": "code",
      "metadata": {
        "id": "kFGL5wrVtxyV"
      },
      "source": [
        ""
      ],
      "execution_count": null,
      "outputs": []
    },
    {
      "cell_type": "code",
      "metadata": {
        "id": "StwejF3NtxyV"
      },
      "source": [
        ""
      ],
      "execution_count": null,
      "outputs": []
    }
  ]
}